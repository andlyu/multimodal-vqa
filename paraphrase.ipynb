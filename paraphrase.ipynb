{
 "cells": [
  {
   "cell_type": "code",
   "execution_count": 1,
   "id": "f6814f55-c811-4a8d-a24d-943a291bc1c6",
   "metadata": {},
   "outputs": [],
   "source": [
    "B_SIZE = 16"
   ]
  },
  {
   "cell_type": "code",
   "execution_count": 2,
   "id": "a6f71132-44b1-4b46-87da-55042def6f8d",
   "metadata": {},
   "outputs": [],
   "source": [
    "import json"
   ]
  },
  {
   "cell_type": "code",
   "execution_count": 3,
   "id": "59fe3f79-f715-476d-9a75-730136b4ef0c",
   "metadata": {},
   "outputs": [],
   "source": [
    "from tqdm import tqdm\n",
    "from transformers import AutoTokenizer, AutoModelForSeq2SeqLM\n",
    "import torch\n",
    "\n",
    "tokenizer = AutoTokenizer.from_pretrained(\"Vamsi/T5_Paraphrase_Paws\")  \n",
    "model = AutoModelForSeq2SeqLM.from_pretrained(\"Vamsi/T5_Paraphrase_Paws\")\n",
    "model = model.to(device = 'cuda')\n",
    "\n",
    "\n",
    "device = torch.device(\"cuda\" if torch.cuda.is_available() else \"cpu\")"
   ]
  },
  {
   "cell_type": "code",
   "execution_count": 4,
   "id": "fb451a12-e07d-4790-a6e6-12a333eca57a",
   "metadata": {},
   "outputs": [],
   "source": [
    "def paraphrase(sents):\n",
    "\n",
    "  text =  [\"summarize: \" + sent + \" </s>\" for sent in sents]\n",
    "\n",
    "  encoding = tokenizer.batch_encode_plus(text,pad_to_max_length=True, return_tensors=\"pt\")\n",
    "\n",
    "  input_ids, attention_masks = encoding[\"input_ids\"].to(device), encoding[\"attention_mask\"].to(device)\n",
    "\n",
    "  outputs = model.generate(\n",
    "      input_ids=input_ids, attention_mask=attention_masks,\n",
    "      max_length=256,\n",
    "      do_sample=True,\n",
    "      top_k=500,\n",
    "      top_p=1.25,\n",
    "      early_stopping=True,\n",
    "      num_return_sequences=5\n",
    "  )\n",
    "\n",
    "  para = []\n",
    "\n",
    "  for sent_i in range(len(sents)):\n",
    "    for i in range(5):\n",
    "      cur_idx = 5*sent_i + i\n",
    "      line = tokenizer.decode(outputs[cur_idx], skip_special_tokens=True,clean_up_tokenization_spaces=True)\n",
    "      if(line != sents[sent_i]):\n",
    "        para.append(line)\n",
    "        break\n",
    "      if(i == 4):\n",
    "        para.append(line)\n",
    "      \n",
    "  return para"
   ]
  },
  {
   "cell_type": "code",
   "execution_count": null,
   "id": "d52d2fdc-6be5-4e29-a25e-1fee8ce7a4ab",
   "metadata": {},
   "outputs": [],
   "source": []
  },
  {
   "cell_type": "code",
   "execution_count": 6,
   "id": "6fbc42fe-4f20-40b1-afdc-dc615b149ab4",
   "metadata": {},
   "outputs": [
    {
     "name": "stderr",
     "output_type": "stream",
     "text": [
      "100%|███████████████████████████████████████| 1253/1253 [07:45<00:00,  2.69it/s]\n"
     ]
    }
   ],
   "source": [
    "\n",
    "f = open('valid.json')\n",
    " \n",
    "# returns JSON object as\n",
    "# a dictionary\n",
    "data = json.load(f)\n",
    " \n",
    "# Iterating through the json\n",
    "# list\n",
    "data_para = []\n",
    "for b_num in tqdm(range(int(len(data)/B_SIZE))):\n",
    "    batch = data[b_num*B_SIZE:b_num*B_SIZE + B_SIZE]\n",
    "    sents = [i['sent'] for i in batch ]\n",
    "    para = paraphrase(sents)\n",
    "    for i in range(len(sents)):\n",
    "        data_para.append(batch[i].copy())\n",
    "        batch[i]['sent'] = para[i]\n",
    "        data_para.append(batch[i])\n",
    "\n",
    "data_para\n",
    "\n",
    "with open('valid_para.json', 'w') as file:\n",
    "    json.dump(data_para, file)"
   ]
  },
  {
   "cell_type": "code",
   "execution_count": null,
   "id": "96f5321e-64d5-40f5-b5c4-edd50ed90e81",
   "metadata": {},
   "outputs": [],
   "source": []
  }
 ],
 "metadata": {
  "kernelspec": {
   "display_name": "lxmert",
   "language": "python",
   "name": "lxmert"
  },
  "language_info": {
   "codemirror_mode": {
    "name": "ipython",
    "version": 3
   },
   "file_extension": ".py",
   "mimetype": "text/x-python",
   "name": "python",
   "nbconvert_exporter": "python",
   "pygments_lexer": "ipython3",
   "version": "3.7.12"
  }
 },
 "nbformat": 4,
 "nbformat_minor": 5
}
